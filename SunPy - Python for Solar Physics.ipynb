{
 "cells": [
  {
   "cell_type": "code",
   "execution_count": 14,
   "metadata": {
    "collapsed": false,
    "slideshow": {
     "slide_type": "skip"
    }
   },
   "outputs": [
    {
     "name": "stdout",
     "output_type": "stream",
     "text": [
      "Overwriting custom.css\n"
     ]
    }
   ],
   "source": [
    "%%file custom.css\n",
    "<style>\n",
    ".left-column {\n",
    "    width: 49%;\n",
    "    float: left;\n",
    "}\n",
    "\n",
    ".right-column {\n",
    "    width: 49%;\n",
    "    float: right;\n",
    "}\n",
    "\n",
    ".centre {\n",
    "    text-align: center;\n",
    "}\n",
    "</style>"
   ]
  },
  {
   "cell_type": "code",
   "execution_count": 15,
   "metadata": {
    "collapsed": false,
    "slideshow": {
     "slide_type": "skip"
    }
   },
   "outputs": [
    {
     "data": {
      "text/html": [
       "<style>\n",
       ".left-column {\n",
       "    width: 49%;\n",
       "    float: left;\n",
       "}\n",
       "\n",
       ".right-column {\n",
       "    width: 49%;\n",
       "    float: right;\n",
       "}\n",
       "\n",
       ".centre {\n",
       "    text-align: center;\n",
       "}\n",
       "</style>"
      ],
      "text/plain": [
       "<IPython.core.display.HTML object>"
      ]
     },
     "execution_count": 15,
     "metadata": {},
     "output_type": "execute_result"
    }
   ],
   "source": [
    "from IPython.display import HTML\n",
    "with open('custom.css') as css:\n",
    "    styles = css.read()\n",
    "\n",
    "HTML(styles)"
   ]
  },
  {
   "cell_type": "markdown",
   "metadata": {
    "slideshow": {
     "slide_type": "skip"
    }
   },
   "source": [
    "<h2 class='centre'> Columns! </h2>\n",
    "<div class='left-column'>\n",
    "<!-- Column 1 -->\n",
    "<p>\n",
    "\n",
    "left\n",
    "\n",
    "</p>\n",
    "</div>\n",
    "\n",
    "<div class='right-column'>\n",
    "<!-- Column 2 -->\n",
    "<p>\n",
    "right\n",
    "</p>\n",
    "</div>"
   ]
  },
  {
   "cell_type": "markdown",
   "metadata": {
    "slideshow": {
     "slide_type": "skip"
    }
   },
   "source": [
    "---"
   ]
  },
  {
   "cell_type": "markdown",
   "metadata": {
    "slideshow": {
     "slide_type": "skip"
    }
   },
   "source": [
    "**Plan**:\n",
    "\n",
    "* What is SunPy?\n",
    "    * Project\n",
    "    * Community\n",
    "    * Library\n",
    "        * Datatypes\n",
    "        * Downloaders\n",
    "\n",
    "* What are people using at the moment?\n",
    "    * SSWIDL\n",
    "\n",
    "* Spreading the SunPy.\n",
    "    * Bootcamps\n",
    "    * News\n",
    "    * Making SunPy Better.\n",
    "\n",
    "* The Future for the library and project.\n",
    "    * Coordinates\n",
    "    * Downloader\n",
    "    * More Astropy integration."
   ]
  },
  {
   "cell_type": "markdown",
   "metadata": {
    "slideshow": {
     "slide_type": "slide"
    }
   },
   "source": [
    "<div class='centre'>\n",
    "\n",
    "<h1>SunPy - Python for Solar Physics</h1>\n",
    "\n",
    "<h2>Stuart Mumford<h2>\n",
    "<h2> The University of Sheffield, UK</h2>\n",
    "</div>\n",
    "\n",
    "<img style='float: left; width: 30%; margin-top: 90px; height: 25%;' src='images/TUOS_Logo_CMYK_Keyline.svg'/> \n",
    "<img style='float: right; width: 30%; margin-top: 90px; height: 25%;' src='images/sunpy_logo_long_800x380.png'/> "
   ]
  },
  {
   "cell_type": "markdown",
   "metadata": {
    "slideshow": {
     "slide_type": "slide"
    }
   },
   "source": [
    "<div style=\"width:30%; margin-left: auto; margin-right: auto;\">\n",
    "\n",
    "<img style='width: 100%' src='images/sunpy_logo_long_800x380.png'/> \n",
    "\n",
    "</div>\n",
    "<div style=\"clear:both;\"></div>"
   ]
  },
  {
   "cell_type": "markdown",
   "metadata": {
    "slideshow": {
     "slide_type": "-"
    }
   },
   "source": [
    "<div>\n",
    "<!-- Column 2 -->\n",
    "<h3 class='centre'> What is SunPy? </h3>\n",
    "<ul>\n",
    "    <li class=\"fragment\"> \"A Project to facilitate and promote the use and development of a community-led, free and open-source solar data-analysis software based on the scientific Python environment.\"</li>\n",
    "    \n",
    "    <li class=\"fragment\"> A library designed to provide core functionality to enable people to do solar physics with Python.</li>\n",
    "    \n",
    "    <li class=\"fragment\"> A community of solar phyicists doing science using Python. </li>\n",
    "    \n",
    "    <li class=\"fragment\"> A group of people ranting on IRC. </li>\n",
    "</ul>\n",
    "</div>"
   ]
  }
 ],
 "metadata": {
  "celltoolbar": "Slideshow",
  "kernelspec": {
   "display_name": "Python 2",
   "language": "python",
   "name": "python2"
  },
  "language_info": {
   "codemirror_mode": {
    "name": "ipython",
    "version": 2
   },
   "file_extension": ".py",
   "mimetype": "text/x-python",
   "name": "python",
   "nbconvert_exporter": "python",
   "pygments_lexer": "ipython2",
   "version": "2.7.9"
  }
 },
 "nbformat": 4,
 "nbformat_minor": 0
}
