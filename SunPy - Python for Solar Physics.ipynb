{
 "cells": [
  {
   "cell_type": "code",
   "execution_count": null,
   "metadata": {
    "collapsed": false,
    "slideshow": {
     "slide_type": "skip"
    }
   },
   "outputs": [],
   "source": [
    "%%file custom.css\n",
    "body {\n",
    "    font-size: 140%;\n",
    "}\n",
    "\n",
    "div.slides {\n",
    "    margin-top: -7%;\n",
    "}\n",
    "\n",
    ".left {\n",
    "    width: 49%;\n",
    "    float: left;\n",
    "}\n",
    "\n",
    ".right {\n",
    "    width: 49%;\n",
    "    float: right;\n",
    "}\n",
    "\n",
    ".centre {\n",
    "    text-align: center;\n",
    "}\n",
    "\n",
    "h2 {\n",
    "    text-align: center;\n",
    "}\n",
    "\n",
    "div.prompt {\n",
    "    display: none;\n",
    "}\n",
    "\n",
    "div.highlight {\n",
    "    font-size: 85%; /* This Seems to give an approximate 80char line at 1024 */\n",
    "}\n",
    "\n",
    "div.output_html {\n",
    "    font-size: 85%;\n",
    "}"
   ]
  },
  {
   "cell_type": "markdown",
   "metadata": {
    "slideshow": {
     "slide_type": "skip"
    }
   },
   "source": [
    "**Plan**:\n",
    "\n",
    "* What is SunPy?\n",
    "    * Project\n",
    "    * Community\n",
    "    * Library\n",
    "        * Datatypes\n",
    "        * Downloaders\n",
    "\n",
    "* What are people using at the moment?\n",
    "    * SSWIDL\n",
    "\n",
    "* Spreading the SunPy.\n",
    "    * Bootcamps\n",
    "    * News\n",
    "    * Making SunPy Better.\n",
    "\n",
    "* The Future for the library and project.\n",
    "    * Coordinates\n",
    "    * Downloader\n",
    "    * More Astropy integration."
   ]
  },
  {
   "cell_type": "markdown",
   "metadata": {
    "slideshow": {
     "slide_type": "slide"
    }
   },
   "source": [
    "<div class='centre' style=\"margin-top:20%;\">\n",
    "\n",
    "<h1>SunPy - Python for Solar Physics</h1>\n",
    "\n",
    "<h2>Stuart Mumford</h2>\n",
    "<h2> The University of Sheffield, UK</h2>\n",
    "</div>\n",
    "\n",
    "<img style='float: left; width: 30%; margin-top: 90px; height: 25%;' src='images/TUOS_Logo_CMYK_Keyline.svg'/> \n",
    "<img style='float: right; width: 30%; margin-top: 90px; height: 25%;' src='images/sunpy_logo_long_800x380.png'/> "
   ]
  },
  {
   "cell_type": "markdown",
   "metadata": {
    "slideshow": {
     "slide_type": "-"
    }
   },
   "source": [
    "<div style=\"clear:both;\"></div>"
   ]
  },
  {
   "cell_type": "markdown",
   "metadata": {
    "slideshow": {
     "slide_type": "slide"
    }
   },
   "source": [
    "## What is SunPy?\n",
    "\n",
    "<p>\n",
    "\"A Project to facilitate and promote the use and development of a community-led, free and open-source solar data-analysis software based on the scientific Python environment.\"\n",
    "</p>\n",
    "\n",
    "<p class=\"fragment\">\n",
    "A library designed to provide core functionality to enable people to do solar physics with Python.\n",
    "</p>\n",
    "    \n",
    "<p class=\"fragment\">\n",
    "A community of solar phyicists doing science using Python.\n",
    "</p>\n",
    "    \n",
    "<p class=\"fragment\">\n",
    "A group of people ranting on IRC.\n",
    "</p>"
   ]
  },
  {
   "cell_type": "markdown",
   "metadata": {
    "slideshow": {
     "slide_type": "slide"
    }
   },
   "source": [
    "## What can it *do*?!\n",
    "\n",
    "The SunPy library currently fulfills two core needs for Solar Physics:\n",
    "\n",
    "<div class='left'>\n",
    "<h3> Data Containers </h3>\n",
    "<ul>\n",
    "    <li> Map </li>\n",
    "    <li> Lightcurve </li>\n",
    "    <li> Spectra </li>\n",
    "</ul>\n",
    "\n",
    "</div>\n",
    "\n",
    "<div class='right fragment'>\n",
    "<h3> Data Retrevial </h3>\n",
    "\n",
    "Client for common sources of solar physics data, and also generic http / ftp repositories.\n",
    "\n",
    "<ul>\n",
    "    <li> Virtual Solar Observatory (VSO)</li>\n",
    "    <li> Joint Science Operations Center (JSOC)</li>\n",
    "    <li> Other small sources.</li>\n",
    "</ul>\n",
    "\n",
    "</div>"
   ]
  },
  {
   "cell_type": "markdown",
   "metadata": {
    "slideshow": {
     "slide_type": "subslide"
    }
   },
   "source": [
    "## Contained Data\n",
    "\n",
    "For example, images:"
   ]
  },
  {
   "cell_type": "code",
   "execution_count": null,
   "metadata": {
    "collapsed": false,
    "slideshow": {
     "slide_type": "skip"
    }
   },
   "outputs": [],
   "source": [
    "%matplotlib inline\n",
    "import matplotlib.pyplot as plt\n",
    "import sunpy.data\n",
    "from sunpy.data.sample import AIA_171_IMAGE"
   ]
  },
  {
   "cell_type": "code",
   "execution_count": null,
   "metadata": {
    "collapsed": false,
    "slideshow": {
     "slide_type": "-"
    }
   },
   "outputs": [],
   "source": [
    "import sunpy.map\n",
    "\n",
    "mymap = sunpy.map.Map(AIA_171_IMAGE)\n",
    "fig = plt.figure(figsize=(8,6))\n",
    "im = mymap.plot()\n",
    "ax = mymap.draw_grid()"
   ]
  },
  {
   "cell_type": "markdown",
   "metadata": {
    "slideshow": {
     "slide_type": "subslide"
    }
   },
   "source": [
    "## Retrieved Data"
   ]
  },
  {
   "cell_type": "code",
   "execution_count": null,
   "metadata": {
    "collapsed": false,
    "slideshow": {
     "slide_type": "-"
    }
   },
   "outputs": [],
   "source": [
    "from sunpy.net import vso\n",
    "\n",
    "\n",
    "vc = vso.VSOClient()\n",
    "results = vc.query(vso.attrs.Time('2015/3/1T00:00:25', '2015/3/1T00:00:30'),\n",
    "                   vso.attrs.Instrument('AIA') | vso.attrs.Instrument('HMI'))\n",
    "results"
   ]
  },
  {
   "cell_type": "markdown",
   "metadata": {
    "slideshow": {
     "slide_type": "slide"
    }
   },
   "source": [
    "## *The* Legacy Code Base\n",
    "\n",
    "Currently most people in Solar Physics use IDL, and **SolarSoft** (SSW).\n",
    "\n",
    "STATS!"
   ]
  },
  {
   "cell_type": "markdown",
   "metadata": {
    "slideshow": {
     "slide_type": "slide"
    }
   },
   "source": [
    "## Spreading the Word\n",
    "\n",
    "### Posters and Talks"
   ]
  },
  {
   "cell_type": "markdown",
   "metadata": {
    "slideshow": {
     "slide_type": "subslide"
    }
   },
   "source": [
    "## Spreading the Word\n",
    "\n",
    "### Bootcamps\n",
    "\n",
    "<img width=\"60%\" src=\"images/shef_bootcamp.jpg\"/>"
   ]
  },
  {
   "cell_type": "markdown",
   "metadata": {
    "slideshow": {
     "slide_type": "subslide"
    }
   },
   "source": [
    "## Spreading the Word\n",
    "\n",
    "### More code!!\n",
    "\n",
    "More functionality will encourage more use. More use encourages more functionality!!"
   ]
  },
  {
   "cell_type": "markdown",
   "metadata": {
    "slideshow": {
     "slide_type": "slide"
    }
   },
   "source": [
    "## The Undiscovered Country\n",
    "\n",
    "What is next?\n",
    "\n",
    "* Lots of Astropy integration"
   ]
  },
  {
   "cell_type": "markdown",
   "metadata": {
    "slideshow": {
     "slide_type": "subslide"
    }
   },
   "source": [
    "## Astropy Units\n",
    "\n",
    "Around half the code base is now using Astropy Units."
   ]
  },
  {
   "cell_type": "code",
   "execution_count": null,
   "metadata": {
    "collapsed": false,
    "slideshow": {
     "slide_type": "-"
    }
   },
   "outputs": [],
   "source": [
    "import astropy.units as u\n",
    "from sunpy.net import vso\n",
    "vc = vso.VSOClient()\n",
    "\n",
    "results = vc.query(vso.attrs.Time('2015/3/1T00:00:00', '2015/3/1T00:00:30'),\n",
    "                   vso.attrs.Instrument('AIA'), vso.attrs.Wave(17.1*u.nm, 171*u.AA))\n",
    "results"
   ]
  },
  {
   "cell_type": "markdown",
   "metadata": {
    "slideshow": {
     "slide_type": "slide"
    }
   },
   "source": [
    "## Astropy Coordinates\n",
    "\n",
    "Are awesome!\n",
    "\n",
    "*and we broke them quite a bit ;)*"
   ]
  },
  {
   "cell_type": "code",
   "execution_count": null,
   "metadata": {
    "collapsed": false,
    "slideshow": {
     "slide_type": "-"
    }
   },
   "outputs": [],
   "source": [
    "from astropy.coordinates import SkyCoord\n",
    "import sunpy.coordinates\n",
    "\n",
    "hpc = SkyCoord(0*u.arcsec, 0*u.arcsec, frame='helioprojective')\n",
    "hpc"
   ]
  },
  {
   "cell_type": "code",
   "execution_count": null,
   "metadata": {
    "collapsed": false,
    "slideshow": {
     "slide_type": "fragment"
    }
   },
   "outputs": [],
   "source": [
    "hgs = hpc.transform_to('heliographicstonyhurst')\n",
    "hgs"
   ]
  },
  {
   "cell_type": "markdown",
   "metadata": {
    "slideshow": {
     "slide_type": "subslide"
    }
   },
   "source": [
    "## What just happened?"
   ]
  },
  {
   "cell_type": "code",
   "execution_count": null,
   "metadata": {
    "collapsed": false,
    "slideshow": {
     "slide_type": "-"
    }
   },
   "outputs": [],
   "source": [
    "hpc"
   ]
  },
  {
   "cell_type": "code",
   "execution_count": null,
   "metadata": {
    "collapsed": false,
    "slideshow": {
     "slide_type": "fragment"
    }
   },
   "outputs": [],
   "source": [
    "hpc3d = hpc.calculate_distance()\n",
    "hpc3d"
   ]
  },
  {
   "cell_type": "code",
   "execution_count": null,
   "metadata": {
    "collapsed": false,
    "slideshow": {
     "slide_type": "fragment"
    }
   },
   "outputs": [],
   "source": [
    "hpc3d.transform_to(sunpy.coordinates.HelioCentric)"
   ]
  },
  {
   "cell_type": "code",
   "execution_count": null,
   "metadata": {
    "collapsed": false,
    "scrolled": true,
    "slideshow": {
     "slide_type": "fragment"
    }
   },
   "outputs": [],
   "source": [
    "_.transform_to(sunpy.coordinates.HelioGraphicStonyhurst)"
   ]
  },
  {
   "cell_type": "markdown",
   "metadata": {
    "slideshow": {
     "slide_type": "slide"
    }
   },
   "source": [
    "## Fido\n",
    "\n",
    "Or the **F**ederated **I**nternet **D**ata **R**etriever.\n",
    "\n",
    "Because what else do you call it?"
   ]
  },
  {
   "cell_type": "markdown",
   "metadata": {
    "slideshow": {
     "slide_type": "subslide"
    }
   },
   "source": [
    "## It retrieves data from the internet!"
   ]
  },
  {
   "cell_type": "code",
   "execution_count": null,
   "metadata": {
    "collapsed": false
   },
   "outputs": [],
   "source": [
    "import astropy.units as u\n",
    "import sunpy.net.dataretriever as dr\n",
    "\n",
    "results = dr.Fido.search(dr.Time('2015/3/1T00:00:00', '2015/3/1T00:00:30'),\n",
    "                         dr.Instrument('AIA'), dr.Wavelength(17.1*u.nm, 171*u.AA))\n",
    "results"
   ]
  },
  {
   "cell_type": "code",
   "execution_count": null,
   "metadata": {
    "collapsed": true
   },
   "outputs": [],
   "source": []
  }
 ],
 "metadata": {
  "celltoolbar": "Slideshow",
  "kernelspec": {
   "display_name": "Python 2",
   "language": "python",
   "name": "python2"
  },
  "language_info": {
   "codemirror_mode": {
    "name": "ipython",
    "version": 2
   },
   "file_extension": ".py",
   "mimetype": "text/x-python",
   "name": "python",
   "nbconvert_exporter": "python",
   "pygments_lexer": "ipython2",
   "version": "2.7.9"
  }
 },
 "nbformat": 4,
 "nbformat_minor": 0
}
